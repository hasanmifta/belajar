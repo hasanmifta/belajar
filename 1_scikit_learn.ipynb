{
  "nbformat": 4,
  "nbformat_minor": 0,
  "metadata": {
    "colab": {
      "name": "1-scikit-learn.ipynb",
      "provenance": []
    },
    "kernelspec": {
      "name": "python3",
      "display_name": "Python 3"
    }
  },
  "cells": [
    {
      "cell_type": "markdown",
      "metadata": {
        "id": "oDCYKvCRkdpW",
        "colab_type": "text"
      },
      "source": [
        "**Import Data**"
      ]
    },
    {
      "cell_type": "code",
      "metadata": {
        "id": "LaaWUqtOjVmi",
        "colab_type": "code",
        "colab": {}
      },
      "source": [
        "from sklearn.datasets import load_digits\n",
        "from sklearn.model_selection import train_test_split\n",
        "from sklearn.metrics import accuracy_score\n",
        "import matplotlib.pyplot as plt\n",
        "from sklearn.neighbors import KNeighborsClassifier\n",
        "import numpy as np"
      ],
      "execution_count": 4,
      "outputs": []
    },
    {
      "cell_type": "code",
      "metadata": {
        "id": "dSKuMktmkaK0",
        "colab_type": "code",
        "colab": {}
      },
      "source": [
        "#Load data\n",
        "data = load_digits()\n",
        "x = data.data\n",
        "y = data.target\n"
      ],
      "execution_count": 25,
      "outputs": []
    },
    {
      "cell_type": "code",
      "metadata": {
        "id": "8rfe25vtlH0D",
        "colab_type": "code",
        "colab": {}
      },
      "source": [
        "#Memilih train data dan tes data\n",
        "x_train, x_test, y_train, y_test = train_test_split(x,y,test_size=0.4)"
      ],
      "execution_count": 6,
      "outputs": []
    },
    {
      "cell_type": "code",
      "metadata": {
        "id": "tmoDe4iel714",
        "colab_type": "code",
        "colab": {
          "base_uri": "https://localhost:8080/",
          "height": 69
        },
        "outputId": "34449009-ade1-40dc-c248-94e836807283"
      },
      "source": [
        "#Model dan training data\n",
        "knn = KNeighborsClassifier() #dalam tanda kurung dikasih parameter\n",
        "knn.fit(x_train, y_train)"
      ],
      "execution_count": 7,
      "outputs": [
        {
          "output_type": "execute_result",
          "data": {
            "text/plain": [
              "KNeighborsClassifier(algorithm='auto', leaf_size=30, metric='minkowski',\n",
              "                     metric_params=None, n_jobs=None, n_neighbors=5, p=2,\n",
              "                     weights='uniform')"
            ]
          },
          "metadata": {
            "tags": []
          },
          "execution_count": 7
        }
      ]
    },
    {
      "cell_type": "code",
      "metadata": {
        "id": "BG0PsVslnS_N",
        "colab_type": "code",
        "colab": {
          "base_uri": "https://localhost:8080/",
          "height": 34
        },
        "outputId": "b68c8fa0-0108-482e-b86d-45b145fc3af5"
      },
      "source": [
        "#prediksi\n",
        "pred = knn.predict(x_test)\n",
        "print(f\"Akurasi: {accuracy_score(y_test, pred)}\")\n",
        "#print(\"Akurasi: {:6.4f}\".format(accuracy_score(y_test, pred)))"
      ],
      "execution_count": 18,
      "outputs": [
        {
          "output_type": "stream",
          "text": [
            "Akurasi: 0.9833101529902643\n"
          ],
          "name": "stdout"
        }
      ]
    },
    {
      "cell_type": "code",
      "metadata": {
        "id": "cabxXmV_nUtL",
        "colab_type": "code",
        "colab": {
          "base_uri": "https://localhost:8080/",
          "height": 513
        },
        "outputId": "c58ae258-45c4-4a45-e9a0-b00c42bb3eb8"
      },
      "source": [
        "#Matplotlib\n",
        "fig = plt.figure(figsize=(7,7))\n",
        "col = 4\n",
        "row = 4\n",
        "ax = []\n",
        "for i in range(col*row):\n",
        "  img = x_test[i].reshape(8,8)\n",
        "  ax.append(fig.add_subplot(row,col,i+1))\n",
        "  pred = (knn.predict(x_test[i].reshape(1,-1)))\n",
        "  ax[-1].set_title(f\"Prediksi: {pred}\")\n",
        "  plt.imshow(img, plt.cm.gray_r)\n",
        "\n",
        "plt.tight_layout()\n",
        "plt.show()"
      ],
      "execution_count": 17,
      "outputs": [
        {
          "output_type": "display_data",
          "data": {
            "image/png": "[encoded data removed]",
            "text/plain": [
              "<Figure size 504x504 with 16 Axes>"
            ]
          },
          "metadata": {
            "tags": [],
            "needs_background": "light"
          }
        }
      ]
    },
    {
      "cell_type": "markdown",
      "metadata": {
        "id": "UYFvnySzseAr",
        "colab_type": "text"
      },
      "source": [
        "***Referensi:***\n",
        "\n",
        "https://medium.com/@wahyuandhika/belajar-machine-learning-basic-of-scikit-learn-a1685db819a8"
      ]
    }
  ]
}